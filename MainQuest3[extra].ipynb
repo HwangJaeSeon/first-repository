{
 "cells": [
  {
   "cell_type": "code",
   "execution_count": null,
   "metadata": {},
   "outputs": [],
   "source": [
    "# <의문점 표시>\n",
    "\n",
    "### <추가기능도전>"
   ]
  },
  {
   "cell_type": "code",
   "execution_count": null,
   "metadata": {},
   "outputs": [],
   "source": [
    "import random"
   ]
  },
  {
   "cell_type": "code",
   "execution_count": null,
   "metadata": {},
   "outputs": [],
   "source": [
    "class Character:\n",
    "    def __init__(self,name,level,health,attack,defense):\n",
    "        self.name = name\n",
    "        self.level = level\n",
    "        self.health = health\n",
    "        self.attack = attack\n",
    "        self.defense = defense\n",
    "\n",
    "    def is_alive(self):\n",
    "        if self.health > 0 :\n",
    "            return True\n",
    "        else :\n",
    "            return False\n",
    "        \n",
    "    def take_damage(self,damage): #외부에서 값을 받아야된다.\n",
    "        ## damage는 외부에서 호출해서 가져온다 \n",
    "        if self.defense > damage :\n",
    "            print(\"방어에 성공하였습니다.!\")\n",
    "            \n",
    "        else :\n",
    "            self.health = self.health - (damage - self.defense)\n",
    "            print(f\"{self.name} 체력이 감소하였습니다. 현재 체력 : {self.health}\")\n",
    "            \n",
    "    def attack_target(self,target):\n",
    "        ## target은 외부에서 호출해서 가져온다\n",
    "        damage = random.randint(1,self.attack) \n",
    "        print(f\"{self.name}이(가) {target.name}을(를) {damage} 공격하였습니다. \")\n",
    "        target.take_damage(damage)\n",
    "        print(f\"{target.name}의 체력 {target.health} 남았습니다.\")\n",
    "        print()"
   ]
  },
  {
   "cell_type": "code",
   "execution_count": null,
   "metadata": {},
   "outputs": [],
   "source": [
    "class Player(Character):\n",
    "    def __init__(self,name) : \n",
    "        super().__init__(name,1,100,25,5)\n",
    "        self.exp = 0\n",
    "        self.max_health = 100 ### 최대 체력 속성추가해보기\n",
    "\n",
    "    def gain_experience(self,exp):\n",
    "        #외부에서 값을 받는다.\n",
    "        self.exp += exp\n",
    "        print(f\"경험치를 {exp}만큼 획득했습니다.(현재 경험치 : {self.exp})\")\n",
    "        \n",
    "    def level_up(self):\n",
    "        if self.exp >= 80: ### 경험치통 80으로 높이기\n",
    "            self.level += 1\n",
    "            self.attack += 10\n",
    "            self.defense += 5\n",
    "            self.exp -= 80 ### 경험치 같이 늘리기\n",
    "            self.max_health += 10 ### 레벨업하면 최대체력 증가\n",
    "            self.health = self.max_health ### 레벨업하면 체력회복\n",
    "            print(f\"LEVEL UP. 현재 레벨 {self.level}\")\n",
    "            print()\n",
    "        else :\n",
    "            print(f\"현재 레벨 {self.level}\")\n",
    "            print()\n",
    "\n",
    "# character1 = Player('Hwang')     # 밖에서 만든다고 ? 왜지\n",
    "# print(f\"이름 : {character1.name}, 레벨 : {character1.level}, 체력 : {character1.health}, 공격력 : {character1.attack}, 방어력 : {character1.defense}\")\n",
    "# 플레이어 정보 출력하기"
   ]
  },
  {
   "cell_type": "code",
   "execution_count": null,
   "metadata": {},
   "outputs": [],
   "source": [
    "class Monster(Character): #외부에서 만들어야된다고 ?\n",
    "    def __init__(self,name,level):\n",
    "        health = random.randint(10,30) * level\n",
    "        attack = random.randint(5,20) * level\n",
    "        defense = random.randint(1,5) * level\n",
    "\n",
    "        super().__init__(name,level,health,attack,defense)\n",
    "\n",
    "# monster1 = Monster(\"goblin\",1)\n",
    "# monster2 = Monster(\"ork\", 3)\n",
    "# monster3 = Monster(\"goblin\",1)\n",
    "# for i in [monster1,monster2,monster3]:\n",
    "#     print(f\"이름 : {i.name}, 레벨 : {i.level}, 체력 : {i.health}, 공격력 : {i.attack}, 방어력 : {i.defense} \")\n",
    "# 몬스터 정보 출력하기"
   ]
  },
  {
   "cell_type": "code",
   "execution_count": null,
   "metadata": {},
   "outputs": [],
   "source": [
    "def Battle(character1,monster):\n",
    "    print(f\"이름 : {character1.name}, 레벨 : {character1.level}, 체력 : {character1.health}, 공격력 : {character1.attack}, 방어력 : {character1.defense}\")\n",
    "    print(f\"이름 : {monster.name}, 레벨 : {monster.level}, 체력 : {monster.health}, 공격력 : {monster.attack}, 방어력 : {monster.defense}\")\n",
    "    print()\n",
    "    while character1.is_alive() and monster.is_alive():\n",
    "        character1.attack_target(monster)\n",
    "        if monster.is_alive():\n",
    "            monster.attack_target(character1)\n",
    "        # break 있으면 한번만에 종료된다. 없애서 조건 맞을때까지 공격/반격\n",
    "    if character1.is_alive():\n",
    "        exp = monster.level * 20\n",
    "        character1.gain_experience(exp)\n",
    "        character1.level_up()\n",
    "        print(f\"{character1.name}의 전투 승리!\")\n",
    "        print(f\"현재 남은 체력 : {character1.health} \")\n",
    "        print()\n",
    "    else:\n",
    "                print(f\"{character1.name}의 전투 패배.\")"
   ]
  },
  {
   "cell_type": "code",
   "execution_count": null,
   "metadata": {},
   "outputs": [],
   "source": [
    "character1 = Player('Hwang') ### 객체유지를 위하여 외부에다 입력"
   ]
  },
  {
   "cell_type": "code",
   "execution_count": null,
   "metadata": {},
   "outputs": [],
   "source": [
    "def Main(): ### 몬스터 늘리기\n",
    "    monster_dict = {\"슬라임\":1,'고블린':2,\"오크\":3,\"거대슬라임\":5,\"트롤\":2,\"드래곤\":8}\n",
    "\n",
    "    # character1 = Player('Hwang')\n",
    "    # monster_level1 = monster_dict[\"슬라임\"]\n",
    "    # monster_level2 = monster_dict[\"고블린\"]\n",
    "    # monster_level3 = monster_dict[\"오크\"]\n",
    "\n",
    "    monsters = [Monster(name,level) for name,level in monster_dict.items()]\n",
    "    for monster in monsters:\n",
    "        Battle(character1,monster)\n",
    "        if character1.health <= 0:\n",
    "            print(\"플레이어가 전투에서 패배했습니다. 게임오버.\")\n",
    "            break\n",
    "    if character1.health > 0:\n",
    "        print(\"모든 몬스터를 처치했습니다. 전투 종료!\")"
   ]
  },
  {
   "cell_type": "code",
   "execution_count": null,
   "metadata": {},
   "outputs": [],
   "source": [
    "### 객체 유지해서 만렙찍기\n",
    "while True:\n",
    "    Main()\n",
    "\n",
    "    choice = input(\"다시 전투하시겠습니까? y / n : \").strip().lower()\n",
    "    if choice == 'y':\n",
    "        print()\n",
    "        print(\"전투를 시작합니다.\")\n",
    "        if character1.health <= 0: ###다시 전투하기 기존 객체 풀피로 채우기\n",
    "            character1.health = character1.max_health\n",
    "            print(f\"{character1.name}이(가) 다시 부활하였습니다.\")\n",
    "            print(f\"레벨 : {character1.level}, 체력 : {character1.health}, 공격력 : {character1.attack}, 방어력 : {character1.defense}\")\n",
    "            print()\n",
    "    elif choice == 'n':\n",
    "        print(\"전투를 종료합니다.\")\n",
    "        break\n",
    "    else :\n",
    "        print(\"잘못된 입력입니다. y 또는 n 을 입력하세요.\")"
   ]
  },
  {
   "cell_type": "markdown",
   "metadata": {},
   "source": [
    "총평 (.ipynb로 옮기면서 빠진 부분이 있을수도 있으니 안되면 말씀부탁드릴게요.)\n",
    "\n",
    "만들떄는 정말 막막하고 원초적인 내용을 100% 이해 못하고 들어가서 그랬는지, \n",
    "특정 부분에 왜 이런게 들어가는지? 또는 왜 이게 여기에 안들어가는지? 라는 의문이 많이 들었다.\n",
    "GPT한테 많이 물어보고 하면서 궁금한 것도 물어보면서 풀었음. GPT가 대부분 풀어줬다고 할 수 있지만 이 또한, 경험이고 공부라고 생각하며 진행했다.\n",
    "파이썬이 이제 얼마 안남았지만, 복습하고 공부하면서 어제보다 나은 실력을 만들어보자.\n",
    "\n",
    "근데 다 완성하고 나니,\n",
    "추가하는 건 크게 어려운게 없었다. 무에서 유가 어려운거라고 느꼈다.. \n",
    "\n",
    "기회가 되면 전투 패배 후에 기존 몬스터랑 이어서 싸우는 것도,\n",
    "몬스터 레벨 구간을 나누어서 랜덤으로 싸우는 것도,\n",
    "해보고 싶다."
   ]
  }
 ],
 "metadata": {
  "language_info": {
   "name": "python"
  }
 },
 "nbformat": 4,
 "nbformat_minor": 2
}
