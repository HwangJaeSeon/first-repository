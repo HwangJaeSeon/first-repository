{
 "cells": [
  {
   "cell_type": "code",
   "execution_count": 3,
   "id": "66e5c997",
   "metadata": {},
   "outputs": [],
   "source": [
    "coffee = ['americano', 'latte', 'mocha']\n",
    "c_price = [2000, 3000, 3000]\n",
    "\n",
    "non_coffee = ['yuzatea', 'greentea','chocolatte']\n",
    "n_price = [2500, 2500, 3000,]\n",
    "\n",
    "menu = ['americano', 'latte', 'mocha', 'yuza_tea', 'green_tea', 'choco_latte']\n",
    "price = [2000, 3000, 3000, 2500, 2500, 3000]"
   ]
  },
  {
   "cell_type": "code",
   "execution_count": 4,
   "id": "01b75278",
   "metadata": {},
   "outputs": [],
   "source": [
    "class Kiosk:\n",
    "    \n",
    "    def __init__(self):\n",
    "        self.menu = ['americano', 'latte', 'mocha', 'yuza_tea', 'green_tea', 'choco_latte']\n",
    "        self.price = [2000, 3000, 3000, 2500, 2500, 3000]\n",
    "\n",
    "        \n",
    "    def menu_print(self):\n",
    "        for i in range(len(self.menu)):\n",
    "            print(i+1, self.menu[i], \" : \", self.price[i],\"원\")\n",
    "\n",
    "            \n",
    "    def menu_select(self):\n",
    "        print()\n",
    "        self.order_menu = []\n",
    "        self.order_price= []\n",
    "        \n",
    "        n = 0\n",
    "        while n < 1 or len(menu) < n:\n",
    "            n = int(input(\"음료 번호를 입력하세요 : \"))\n",
    "            \n",
    "            if 1 <= n and n <= len(menu):\n",
    "                self.order_price.append(self.price[n-1])\n",
    "                self.price_sum = self.price[n-1]\n",
    "                print(n,self.menu[n-1], \" : \", self.price[n-1],\"원\")\n",
    "                \n",
    "            else :\n",
    "                print(\"없는 메뉴입니다. 다시 주문해주세요\")\n",
    "        print()\n",
    "\n",
    "        t = 0\n",
    "        while t != 1 and t != 2:\n",
    "            t = int(input(\"HOT음료는 1을, ICE음료는 2를 입력하세요 : \"))\n",
    "            if t == 1:\n",
    "                self.temp = \"HOT\"\n",
    "                print(\"HOT음료(1)를 입력하였습니다.\")\n",
    "            elif t == 2:\n",
    "                self.temp = \"ICE\"\n",
    "                print(\"ICE음료(2)를 입력하였습니다.\")\n",
    "            else:\n",
    "                print(\"1과 2 중 하나를 입력하세요\\n\")\n",
    "            \n",
    "        self.order_menu.append(self.temp + ' ' + self.menu[n-1])\n",
    "        print(\"[음료번호]\",n,\"번\",self.temp, self.menu[n-1], \" : \", self.price[n-1],\"원\")\n",
    "\n",
    "        while n != 0:\n",
    "            print()\n",
    "            a.menu_print()\n",
    "            print()\n",
    "            n = int(input(\"추가 주문을 음료 번호를 입력해주세요. 결제는 0을 입력해주세요 :\"))\n",
    "            if n > 0 and n < len(self.menu) + 1:    \n",
    "                print(n,self.menu[n-1], \" : \", self.price[n-1],\"원\")\n",
    "\n",
    "                t = int(input(\"HOT음료는 1을, ICE음료는 2를 입력하세요 : \"))\n",
    "                if t == 1:\n",
    "                    self.temp = \"HOT\"\n",
    "                    print(\"HOT음료(1)를 입력하였습니다.\")\n",
    "\n",
    "                elif t == 2:\n",
    "                    self.temp = \"ICE\"\n",
    "                    print(\"ICE음료(2)를 입력하였습니다.\")\n",
    "\n",
    "                else:\n",
    "                    print(\"1과 2 중 하나를 입력하세요\\n\")\n",
    "\n",
    "                self.order_menu.append(self.temp + ' ' + self.menu[n-1])\n",
    "                self.order_price.append(self.price[n-1])\n",
    "                \n",
    "\n",
    "                print('추가 주문 음료', \"[음료번호]\", n,\"번\", self.temp, self.menu[n-1], \" : \", self.price[n-1],\"원\")\n",
    "                print(\"총 금액 : \", sum(self.order_price),\"원\")\n",
    "\n",
    "\n",
    "            else :\n",
    "                if n == 0 :\n",
    "                    print(\"주문이 완료 되었습니다.\")\n",
    "                    print(\"주문 메뉴 : \", self.order_menu)\n",
    "                    print(\"주문 금액 : \", self.order_price)\n",
    "                    print(\"총 금액 : \", sum(self.order_price),\"원\")\n",
    "                \n",
    "                else :\n",
    "                    print(\"없는 메뉴입니다. 다시 주문해 주세요\")\n",
    "\n",
    "                    \n",
    "    def pay(self):\n",
    "        p = int(input(\"지불 방법을 입력해주세요. [현금]은 1을, [카드]는 2를 입력해주세요\"))\n",
    "        if p == 1 :\n",
    "            print(\"직원을 호출하겠습니다.\")\n",
    "        else :\n",
    "            print(\"IC칩 방향에 맞게 카드를 꽂아주세요.\")\n",
    "\n",
    "            \n",
    "    def table(self):\n",
    "        # 외곽\n",
    "        outline1 = '⟝' + '-' * 30 + '⟞'\n",
    "        outline2 = '|' + ' ' * 31 + '|'\n",
    "\n",
    "        print(outline1)\n",
    "        for i in range(5):\n",
    "            print(outline2)\n",
    "    \n",
    "        for i in range(len(self.order_menu)):\n",
    "            print(self.order_menu[i],\" : \", self.order_price[i])\n",
    "    \n",
    "        print(\"합계 금액 : \", sum(self.order_price))\n",
    "\n",
    "        for i in range(5):\n",
    "            print(outline2)\n",
    "        print(outline1)"
   ]
  },
  {
   "cell_type": "code",
   "execution_count": 5,
   "id": "4d100d57",
   "metadata": {},
   "outputs": [],
   "source": [
    "a = Kiosk()"
   ]
  },
  {
   "cell_type": "code",
   "execution_count": null,
   "id": "91ecdbb4",
   "metadata": {},
   "outputs": [],
   "source": [
    "a.menu_print()"
   ]
  },
  {
   "cell_type": "code",
   "execution_count": null,
   "id": "90fdf1b5",
   "metadata": {},
   "outputs": [],
   "source": [
    "a.menu_select()"
   ]
  },
  {
   "cell_type": "code",
   "execution_count": null,
   "id": "0cb1f5a0",
   "metadata": {},
   "outputs": [],
   "source": [
    "a.table()"
   ]
  },
  {
   "cell_type": "code",
   "execution_count": null,
   "id": "c9b41d5b",
   "metadata": {},
   "outputs": [],
   "source": [
    "a.pay()"
   ]
  },
  {
   "cell_type": "markdown",
   "id": "47bb3682",
   "metadata": {},
   "source": [
    "회고\n",
    "좋은 점 : \n",
    "여태 잘 모르고 있다고 생각했던 파이썬이 나름 \"오 나 이거 할줄알아?\"라고 생각하게 되어 자신감을 나에게 주었다..\n",
    "아쉬운 점 : \n",
    "동영상과 GPT없이는 완성을 못했겠지만... 최대한 덜 검색하고 배운거 위주로 사용하려고 노력하였음. 근데 노력이 . 더 필요할 예정.."
   ]
  }
 ],
 "metadata": {
  "kernelspec": {
   "display_name": "Python 3 (ipykernel)",
   "language": "python",
   "name": "python3"
  },
  "language_info": {
   "codemirror_mode": {
    "name": "ipython",
    "version": 3
   },
   "file_extension": ".py",
   "mimetype": "text/x-python",
   "name": "python",
   "nbconvert_exporter": "python",
   "pygments_lexer": "ipython3",
   "version": "3.9.7"
  }
 },
 "nbformat": 4,
 "nbformat_minor": 5
}
